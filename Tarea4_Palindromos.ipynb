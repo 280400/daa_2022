{
  "cells": [
    {
      "cell_type": "markdown",
      "metadata": {
        "id": "view-in-github",
        "colab_type": "text"
      },
      "source": [
        "<a href=\"https://colab.research.google.com/github/280400/daa_2022/blob/main/Tarea4_Palindromos.ipynb\" target=\"_parent\"><img src=\"https://colab.research.google.com/assets/colab-badge.svg\" alt=\"Open In Colab\"/></a>"
      ]
    },
    {
      "cell_type": "code",
      "source": [
        "contador = 0\n",
        "horas=[]\n",
        "for hor_izq in range (3):\n",
        "    for hor_der in range(10):\n",
        "        if hor_izq ==2 and hor_der >=4 :\n",
        "            continue\n",
        "        for min_izq in range(6):\n",
        "            for min_der in range(10):\n",
        "                if hor_izq == min_der  and   hor_der == min_izq:\n",
        "                    print(f\" {hor_izq}{hor_der}:{min_izq}{min_der}\")\n",
        "                    contador += 1"
      ],
      "metadata": {
        "colab": {
          "base_uri": "https://localhost:8080/"
        },
        "id": "KZknm97Geubx",
        "outputId": "b1b4513b-bccd-4ce1-e2af-3754cd655164"
      },
      "execution_count": 1,
      "outputs": [
        {
          "output_type": "stream",
          "name": "stdout",
          "text": [
            " 00:00\n",
            " 01:10\n",
            " 02:20\n",
            " 03:30\n",
            " 04:40\n",
            " 05:50\n",
            " 10:01\n",
            " 11:11\n",
            " 12:21\n",
            " 13:31\n",
            " 14:41\n",
            " 15:51\n",
            " 20:02\n",
            " 21:12\n",
            " 22:22\n",
            " 23:32\n"
          ]
        }
      ]
    }
  ],
  "metadata": {
    "colab": {
      "provenance": [],
      "authorship_tag": "ABX9TyNhuWbCtV8LJ0+Dm/MHBK2T",
      "include_colab_link": true
    },
    "kernelspec": {
      "display_name": "Python 3",
      "name": "python3"
    },
    "language_info": {
      "name": "python"
    }
  },
  "nbformat": 4,
  "nbformat_minor": 0
}